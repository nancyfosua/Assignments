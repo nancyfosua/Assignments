{
  "nbformat": 4,
  "nbformat_minor": 0,
  "metadata": {
    "colab": {
      "name": "Nancy_Fosua_Boakye_Python_Tutorial(OOP).ipynb",
      "provenance": [],
      "collapsed_sections": []
    },
    "kernelspec": {
      "name": "python3",
      "display_name": "Python 3"
    },
    "language_info": {
      "name": "python"
    }
  },
  "cells": [
    {
      "cell_type": "markdown",
      "source": [
        "# Instructions:\n",
        "\n",
        "You have to submit the Notebook before the deadline: \n",
        "\n",
        "*   Before you start go the menu in the upper left corner and click file->Save a copy in Drive.\n",
        "*   Modify (add your name) the notebook name to **firstname_lastname_Python_Tutorial (OOP).ipynb**."
      ],
      "metadata": {
        "id": "qFT_NRszVT_4"
      }
    },
    {
      "cell_type": "markdown",
      "source": [
        "This assignement has 4 exercises covering python OOP notions (classes, objects, attributes, methods and inheritance)"
      ],
      "metadata": {
        "id": "ClNdeJxos95D"
      }
    },
    {
      "cell_type": "markdown",
      "source": [
        "## Exercise 1: Class definition and manipulation\n",
        "\n",
        "\n",
        "\n",
        "1.   define a class Person that takes three paremeters **firstName, lastName and age** and use them to initialise three attributes of the class Person namely firstname, lastname and age\n",
        "2.   write a class method **introduceMySelf** that print:\n",
        "\n",
        "    *   My firstname is **firstname**\n",
        "    *   My lastname is **lastName**\n",
        "    *   I'm **age** year old\n",
        "3.   Write a class method **ageGroup** which  return:\n",
        "    *  **young** if **age** <= 18\n",
        "    *  **adult** if **age** <= 45\n",
        "    *  **old** if **age** > 45\n",
        "\n",
        "\n"
      ],
      "metadata": {
        "id": "VExlu4BqVnGm"
      }
    },
    {
      "cell_type": "code",
      "source": [
        "##### WRITE YOUR CODE HERE #####\n",
        "class Person:\n",
        "    def __init__(self,firstname,lastname,age):\n",
        "         self.firstname = firstname\n",
        "         self.lastname = lastname\n",
        "         self.age = age\n",
        "\n",
        "    def introduceMySelf(self):\n",
        "          print(\"My firstname is \" , self.firstname)\n",
        "          print(\"My lastName is \" , self.lastname)\n",
        "          print(\"I'm {} year old\".format(self.age))\n",
        "\n",
        "    def ageGroup(self): \n",
        "         if self.age <= 18 :\n",
        "              print(\"young\")\n",
        "         elif self.age <= 45:\n",
        "               print(\"adult\")\n",
        "         elif self.age > 45:\n",
        "                print(\"old\")\n",
        "        \n",
        "          \n",
        "#### END CODE ####"
      ],
      "metadata": {
        "id": "959nmuLJVZB3"
      },
      "execution_count": 20,
      "outputs": []
    },
    {
      "cell_type": "code",
      "source": [
        "print (Person)"
      ],
      "metadata": {
        "colab": {
          "base_uri": "https://localhost:8080/"
        },
        "id": "uS8ujZHnfdbF",
        "outputId": "775944d0-2ab7-49da-9bae-73f4cef4a8cc"
      },
      "execution_count": 8,
      "outputs": [
        {
          "output_type": "stream",
          "name": "stdout",
          "text": [
            "<class '__main__.Person'>\n"
          ]
        }
      ]
    },
    {
      "cell_type": "markdown",
      "source": [
        "## Exercise 2: Object instantiation:\n",
        "\n",
        "1.  Instantiate an object person of type Person (the previous class you defined)\n",
        "2.  print the firstname, lastname and age attributes of the object person\n",
        "3. call the class methods **introduceMySelf** and **ageGroup** "
      ],
      "metadata": {
        "id": "xgikec_1c7k6"
      }
    },
    {
      "cell_type": "code",
      "source": [
        "##### WRITE YOUR CODE HERE #####\n",
        "person=Person(\"Nana\",\"Boakye\",67) # instantiate an object person\n",
        "print(person.firstname)\n",
        "print(person.lastname)\n",
        "print(person.age)\n",
        "person.introduceMySelf() # calling the class method  introduceMySelf \n",
        "person.ageGroup() # calling the class method ageGroup\n",
        "#### END CODE ####"
      ],
      "metadata": {
        "id": "3XRrtT5ufGJu",
        "colab": {
          "base_uri": "https://localhost:8080/"
        },
        "outputId": "e869062c-49eb-4232-eef8-f82269e1bf32"
      },
      "execution_count": 30,
      "outputs": [
        {
          "output_type": "stream",
          "name": "stdout",
          "text": [
            "Nana\n",
            "Boakye\n",
            "67\n",
            "My firstname is  Nana\n",
            "My lastName is  Boakye\n",
            "I'm 67 year old\n",
            "old\n"
          ]
        }
      ]
    },
    {
      "cell_type": "markdown",
      "source": [
        "# Exercise 3: Private attributes and methods\n",
        "\n",
        "1.  Redifine the previous class Person and make the attribute **age** private(call this class PrivatePerson to avoid confusion later)\n",
        "2.  make the method **ageGroup** also private\n",
        "3. Instantiate an object private_person of type PrivatePerson\n",
        "4.  call the method **ageGroup** of private_person"
      ],
      "metadata": {
        "id": "9MDNrnuHluBY"
      }
    },
    {
      "cell_type": "code",
      "source": [
        "##### WRITE YOUR CODE HERE #####\n",
        "class PrivatePerson:\n",
        "    def __init__(self,firstname,lastname,__age):\n",
        "         self.firstname = firstname\n",
        "         self.lastname = lastname\n",
        "         self.__age = __age\n",
        "\n",
        "    def introduceMySelf(self):\n",
        "          print(\"My firstname is \" , self.firstname)\n",
        "          print(\"My lastName is \" , self.lastname)\n",
        "          print(\"I'm {} year old\".format(self.__age))\n",
        "\n",
        "    def __ageGroup(self): \n",
        "         if self.__age <= 18 :\n",
        "              print(\"young\")\n",
        "         elif self.__age <= 45:\n",
        "               print(\"adult\")\n",
        "         elif self.__age > 45:\n",
        "                print(\"old\")\n",
        "\n",
        "     \n",
        "\n",
        "#### END CODE ####"
      ],
      "metadata": {
        "id": "2LohZIGwmebZ"
      },
      "execution_count": 40,
      "outputs": []
    },
    {
      "cell_type": "code",
      "source": [
        "private_person=PrivatePerson(\"Nana\",\"Boakye\",67)  "
      ],
      "metadata": {
        "id": "MXLt5NjKm5_-"
      },
      "execution_count": 41,
      "outputs": []
    },
    {
      "cell_type": "code",
      "source": [
        "private_person._PrivatePerson__ageGroup() # calling the method ageGroup ,note : ageGroup is private "
      ],
      "metadata": {
        "colab": {
          "base_uri": "https://localhost:8080/"
        },
        "id": "4p17J202nYyP",
        "outputId": "25260909-4096-4fa1-8d1d-1a8a0f28df7b"
      },
      "execution_count": 47,
      "outputs": [
        {
          "output_type": "stream",
          "name": "stdout",
          "text": [
            "old\n"
          ]
        }
      ]
    },
    {
      "cell_type": "markdown",
      "source": [
        "## Exercise 4: Inheritance\n",
        "\n",
        "1. Define a class **Student** which inherit from the class Person\n",
        "2. Add the class attributes **schoolName and courses** to the class **Student** (courses is a list)\n",
        "3. Define  **getCourses** which return the courses taken by a student\n",
        "4. Redifine the class method **introduceMySelf** to add the following print:\n",
        "  *  I'm studying at **schoolName**\n",
        "\n",
        "5. Instantiate an object **student** of type Student \n",
        "6. call methods **introduceMySelf** and **getcourse**"
      ],
      "metadata": {
        "id": "omzIf5NDmv69"
      }
    },
    {
      "cell_type": "code",
      "source": [
        "##### WRITE YOUR CODE HERE #####\n",
        "class Student(Person):\n",
        "      def __init__(self,firstname,lastname,age,schoolName,courses):\n",
        "          super().__init__(firstname,lastname,age)\n",
        "          self.firstname = firstname\n",
        "          self.lastname = lastname\n",
        "          self.age = age\n",
        "          self.schoolName = schoolName\n",
        "          self.courses = courses\n",
        "\n",
        "      def getCourses(self):\n",
        "          return self.courses \n",
        "\n",
        "      def introduceMySelf(self):\n",
        "          print(\"I'm studying at {} \".format(self.schoolName ))\n",
        "\n",
        "#### END CODE ####"
      ],
      "metadata": {
        "id": "fAhvqXwioBPz"
      },
      "execution_count": 105,
      "outputs": []
    },
    {
      "cell_type": "code",
      "source": [
        "student= Student(\"Nana\",\"Boakye\",67,\"KNUST\",[\"English\",\"Mathematics\",\"Machine learning\",\"RME\"])"
      ],
      "metadata": {
        "id": "JocoPf3bHA0G"
      },
      "execution_count": 107,
      "outputs": []
    },
    {
      "cell_type": "code",
      "source": [
        "student.introduceMySelf()"
      ],
      "metadata": {
        "colab": {
          "base_uri": "https://localhost:8080/"
        },
        "id": "PrgUznotv__V",
        "outputId": "b22c8d0f-b8b3-4ef4-ce46-eb3132a456da"
      },
      "execution_count": 102,
      "outputs": [
        {
          "output_type": "stream",
          "name": "stdout",
          "text": [
            "I'm studying at KNUST \n"
          ]
        }
      ]
    },
    {
      "cell_type": "code",
      "source": [
        "student.getCourses()"
      ],
      "metadata": {
        "colab": {
          "base_uri": "https://localhost:8080/"
        },
        "id": "ohthlFnsyGOS",
        "outputId": "b094fd81-ebb4-4cf4-e31a-1a68a37d30bf"
      },
      "execution_count": 108,
      "outputs": [
        {
          "output_type": "execute_result",
          "data": {
            "text/plain": [
              "['English', 'Mathematics', 'Machine learning', 'RME']"
            ]
          },
          "metadata": {},
          "execution_count": 108
        }
      ]
    }
  ]
}